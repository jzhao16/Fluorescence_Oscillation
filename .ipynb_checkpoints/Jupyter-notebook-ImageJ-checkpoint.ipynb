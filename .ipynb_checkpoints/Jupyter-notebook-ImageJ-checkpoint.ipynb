{
 "cells": [
  {
   "cell_type": "code",
   "execution_count": 1,
   "metadata": {},
   "outputs": [
    {
     "data": {
      "text/plain": [
       "ImageJ is ready to go."
      ]
     },
     "execution_count": 1,
     "metadata": {},
     "output_type": "execute_result"
    }
   ],
   "source": [
    "#@ImageJ ij\n",
    "\"ImageJ is ready to go.\""
   ]
  },
  {
   "cell_type": "code",
   "execution_count": 3,
   "metadata": {},
   "outputs": [
    {
     "data": {
      "image/png": "[encoded data removed]"
     },
     "execution_count": 3,
     "metadata": {},
     "output_type": "execute_result"
    }
   ],
   "source": [
    "// Here we have a gradient ramp in an array.\n",
    "w = 256; h = 256\n",
    "byte[] pixels = new byte[w * h]\n",
    "for (y in 0..h-1) {\n",
    "  for (x in 0..w-1) {\n",
    "    pixels[y * w + x] = x + y\n",
    "  }\n",
    "}\n",
    "\n",
    "// Wrap the array into an image.\n",
    "import net.imglib2.img.array.ArrayImgs\n",
    "ramp = ArrayImgs.unsignedBytes(pixels, w, h)\n"
   ]
  },
  {
   "cell_type": "code",
   "execution_count": null,
   "metadata": {},
   "outputs": [],
   "source": []
  }
 ],
 "metadata": {
  "kernelspec": {
   "display_name": "SciJava",
   "language": "groovy",
   "name": "scijava"
  },
  "language_info": {
   "codemirror_mode": "groovy",
   "file_extension": "",
   "mimetype": "",
   "name": "scijava",
   "nbconverter_exporter": "",
   "pygments_lexer": "groovy",
   "version": "1.0"
  }
 },
 "nbformat": 4,
 "nbformat_minor": 2
}
